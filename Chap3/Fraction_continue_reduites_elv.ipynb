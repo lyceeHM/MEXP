{
 "cells": [
  {
   "cell_type": "markdown",
   "metadata": {},
   "source": [
    "<img src=\"http://maths.bro.free.fr/python_lycee.png\">\n",
    "<div id=\"titre\">\n",
    "<h1 style=\"color:white;\n",
    "  font-family:Comic Sans MS;\n",
    "  font-size:3em;\n",
    "  background-color:black;\n",
    "  text-align:center;\n",
    "  padding:5px\">Fractions continues</h1>\n",
    "<div style=\"font-family:Comic Sans MS; background-color:#888;box-shadow: 8px 8px 0px #aaa; text-align:center; width: 50%; color:white\">Maths Expertes : Chapitre 3</div>\n",
    "</div>"
   ]
  },
  {
   "cell_type": "markdown",
   "metadata": {},
   "source": [
    "<h1 style=\"color:white;\n",
    "  font-family:Comic Sans MS;\n",
    "  font-size:3em;\n",
    "  background-color:orange;\n",
    "  text-align:center;\n",
    "  padding:10px;border-radius: 25px;\">Exo n°25</h1>"
   ]
  },
  {
   "cell_type": "markdown",
   "metadata": {},
   "source": [
    "<h1 style=\"font-family:Comic Sans MS;color:white;background-color:#B6B6B6;text-align:center;border-radius: 25px;padding: 20px;width:50%\"> <span style=\"font-size:2em;font-weight:bold;padding-right: 60px;color:black\"> B.</span>Premières propriétés des fractions continues</h1>"
   ]
  },
  {
   "cell_type": "markdown",
   "metadata": {},
   "source": [
    "<span style=\"font-size:2em;font-weight:bold;padding-right: 30px;\"> 4.</span> Compléter la fonction Python nommée <code style=\"background-color:white\">réduite</code> de paramètres <code style=\"background-color:white\">a</code> et <code style=\"background-color:white\">b</code> qui calcule et dispose les réduites de $x=\\dfrac{b}{a}$. "
   ]
  },
  {
   "cell_type": "code",
   "execution_count": null,
   "metadata": {},
   "outputs": [],
   "source": [
    "def réduite(r, R):\n",
    "    x = r / R\n",
    "    print(\"{0:^3} | {1:<8} | {2:<4} | {3:<8} | {4:<8} | {5:<20} \".format('i', 'ri', 'qi', 'ai', 'bi', 'k - ai / bi'))\n",
    "    i, a, b = -2, 0, 1\n",
    "    print(\"{0:>3} | {1:<8} | {2:<4} | {3:<8} | {4:<8} | {5:<20} \".format(i, r, '', a, b,''))\n",
    "    i, A, B = i + 1, 1, 0\n",
    "    print(\"{0:>3} | {1:<8} | {2:<4} | {3:<8} | {4:<8} | {5:<20} \".format(i, R, '', A, B,''))\n",
    "    while R > 0:\n",
    "        q = r // R\n",
    "        i, R, r = i + 1, r % R, R\n",
    "        a, b, A, B = A, ..., a + q * ..., ... + q * ...\n",
    "        print(\"{0:>3} | {1:<8} | {2:<4} | {3:<8} | {4:<8} | {5:<20} \".format(i, R, q, A, B, x - A / B))\n",
    "        \n",
    "réduite(142, 27)"
   ]
  },
  {
   "cell_type": "markdown",
   "metadata": {},
   "source": [
    "<h1 style=\"color:white;\n",
    "  font-family:Comic Sans MS;\n",
    "  font-size:3em;\n",
    "  background-color:orange;\n",
    "  text-align:center;\n",
    "  padding:10px;border-radius: 25px;\">Exo n°27 : <span style=\"font-size:0.8em;font-weight:bold;padding-right: 60px;color:white\">L'automate planétaire de Huygens</span></h1>"
   ]
  },
  {
   "cell_type": "markdown",
   "metadata": {},
   "source": [
    "<h2>Le degré sexagésimal</h2>\n",
    "<div style='background-color:#DDD;padding:10px;border-left: 0.4rem solid;border-radius: 25px;padding: 20px;'>\n",
    "    Autrefois les angles étaient exprimés à l'aide <b>du degré segagécimal</b> (base $60$) de la façon suivante : \n",
    "    <ul>\n",
    "        <li style=\"margin-left:20px;padding:10px\"> 1 <b>degré</b> qui se note 1° est l'unité de mesure.\n",
    "        </li>\n",
    "        <li style=\"margin-left:20px;padding:10px\"> 1° se décompose en 60 <b>minutes</b> qui se note 1° = 60&prime;\n",
    "        </li>\n",
    "        <li style=\"margin-left:20px;padding:10px\"> 1&prime; se décompose en 60 <b>secondes</b> qui se note 1&prime; = 60&Prime;\n",
    "        </li>\n",
    "        <li style=\"margin-left:20px;padding:10px\"> 1&Prime; se décompose en 60 <b>tierces</b> qui se note 1&Prime; = 60&tprime;\n",
    "        </li>\n",
    "    </ul>\n",
    "   <u>Exemple :</u> $d$°$m$&prime;$s$&Prime;$t$&tprime; = $d+\\dfrac{m}{60}+\\dfrac{s}{60^2}+\\dfrac{t}{60^3}°$.\n",
    "   <br><u>Remarque :</u> On divisait même la tierce en 60 quatrièmes qui se note 1&tprime; = 60 IV. \n",
    "</div>"
   ]
  },
  {
   "cell_type": "markdown",
   "metadata": {},
   "source": [
    "Écrire la fonction nommée <code style=\"background-color:white\">dents</code> qui renvoie pour $d$°$m$&prime;$s$&Prime;$t$&tprime; le nombre de tierces utilisés."
   ]
  },
  {
   "cell_type": "code",
   "execution_count": null,
   "metadata": {},
   "outputs": [],
   "source": [
    "def dents(d, m, s, t):\n",
    "    return ..."
   ]
  },
  {
   "cell_type": "code",
   "execution_count": null,
   "metadata": {},
   "outputs": [],
   "source": []
  }
 ],
 "metadata": {
  "kernelspec": {
   "display_name": "Python 3",
   "language": "python",
   "name": "python3"
  },
  "language_info": {
   "codemirror_mode": {
    "name": "ipython",
    "version": 3
   },
   "file_extension": ".py",
   "mimetype": "text/x-python",
   "name": "python",
   "nbconvert_exporter": "python",
   "pygments_lexer": "ipython3",
   "version": "3.8.6"
  }
 },
 "nbformat": 4,
 "nbformat_minor": 2
}
